{
 "cells": [
  {
   "cell_type": "markdown",
   "metadata": {
    "id": "JZy7U1VbnyYW"
   },
   "source": [
    "# Integração do Python com Arquivos txt\n",
    "\n",
    "Como quase tudo no Python, existem várias formas de ler um arquivo no Python.\n",
    "\n",
    "Aprendemos em módulos passadas a ler arquivos em Excel ou csv com o Pandas, minha recomendação é que, sempre que possível, use o pandas para isso porque ele é um módulo feito para análise de dados e tem muita coisa pronta dentro dele.\n",
    "\n",
    "Caso queira ler um arquivo txt simplesmente ou escrever um, vamos ver agora como fazer.\n",
    "\n",
    "### Estrutura:"
   ]
  },
  {
   "cell_type": "raw",
   "metadata": {
    "id": "ffy5dClknyYb"
   },
   "source": [
    "1. Método open: -> Abre um arquivo txt\n",
    "\n",
    "arquivo = open('NomeArquivo.txt', 'r')\n",
    "\n",
    "Usamos 'r' para abrir o arquivo para ler (read) e 'w' quando estamos abrindo o arquivo para escrever (write) ou 'a' se formos adicionar (append) uma informação no arquivo"
   ]
  },
  {
   "cell_type": "markdown",
   "metadata": {
    "id": "wnmdqDxDnyYc"
   },
   "source": [
    "- Com o arquivo aberto, agora podemos efetivamente ler o arquivo com os métodos:"
   ]
  },
  {
   "cell_type": "raw",
   "metadata": {
    "id": "4TQTUteOnyYd"
   },
   "source": [
    "2. Método read():\n",
    "\n",
    "texto_arquivo = arquivo.read()\n",
    "\n",
    "3. Método readlines():\n",
    "\n",
    "lista_linhas = arquivo.readlines()"
   ]
  },
  {
   "cell_type": "markdown",
   "metadata": {
    "id": "rLRxWJCnnyYd"
   },
   "source": [
    "- Para escrever alguma coisa no arquivo teremos o método write:"
   ]
  },
  {
   "cell_type": "raw",
   "metadata": {
    "id": "IubcvchxnyYe"
   },
   "source": [
    "4. Método write():\n",
    "\n",
    "arquivo.write('Texto que quero escrever')"
   ]
  },
  {
   "cell_type": "markdown",
   "metadata": {
    "id": "PbAPlDS0nyYf"
   },
   "source": [
    "- Obs: Quando você abre um arquivo, ele permanece aberto no Python até você fechar. Existem 2 formas de fazer isso:"
   ]
  },
  {
   "cell_type": "raw",
   "metadata": {
    "id": "uvvSfi95nyYf"
   },
   "source": [
    "5. Método close():\n",
    "\n",
    "arquivo.close()\n",
    "\n",
    "6. Usando a estrutura with: -> ao final do with, a própria estrutura with fecha automaticamente o arquivo\n",
    "\n",
    "with open('NomeArquivo.txt', 'w') as arquivo:\n",
    "    arquivo.write()\n",
    "    ..."
   ]
  },
  {
   "cell_type": "code",
   "execution_count": null,
   "metadata": {},
   "outputs": [],
   "source": [
    "#arquivo = open('Alunos.txt','r')\n",
    "# formas de ler um arquivo .txt\n",
    "    #método .read() # lê o txt como está no bloco de notas\n",
    "#arquivo.read()\n",
    "    # método .readlines(), transforma o txt em lista, e cada linha é um ítem da lista\n",
    "#arquivo.readlines()"
   ]
  },
  {
   "cell_type": "markdown",
   "metadata": {},
   "source": [
    "### Escrever no arquivo"
   ]
  },
  {
   "cell_type": "code",
   "execution_count": null,
   "metadata": {},
   "outputs": [],
   "source": [
    "novo_arquivo = open('Resumo.txt', 'w') # sempre ao abrir\n",
    "novo_arquivo.write('Olá, meu nome é Lira\\nOutra Linha\\n')\n",
    "novo_arquivo.write('Terceira linha')\n",
    "\n",
    "novo_arquivo.close()# precisa fechar arquivo, afim de salvar as modificações\n",
    "\n",
    "# estrutura with. dispensa o .close()\n",
    "# with open('arquivo.txt', 'metodo r ou w ou a') as variavel:\n",
    "    #variavel.write('text') \n",
    "with open('Resumo2.txt','w') as arquivo2:\n",
    "    arquivo2.write('Novo texto\\nCom fechamento automático usando o \\nwith')"
   ]
  },
  {
   "cell_type": "markdown",
   "metadata": {
    "id": "p7zY5_RAnyYg"
   },
   "source": [
    "### Desafio onde vamos aprender:\n",
    "\n",
    "- Na Hashtag, sempre analisamos o nosso \"Funil de Vendas\". Para isso, rastreamos de onde veio os alunos por meio de um código, do tipo:\n",
    "    - hashtag_site_org -> Pessoas que vieram pelo site da Hashtag\n",
    "    - hashtag_yt_org -> Pessoas que vieram pelo Youtube da Hashtag\n",
    "    - hashtag_ig_org -> Pessoas que vieram pelo Instagram da Hashtag\n",
    "    - hashtag_igfb_org -> Pessoas que vieram pelo Instagram ou Facebook da Hashtag\n",
    "\n",
    "Os códigos diferentes disso, são códigos de anúncio da Hashtag.\n",
    "\n",
    "- Queremos analisar quantos alunos vieram de anúncio e quantos vieram \"orgânico\".\n",
    "- Qual a melhor fonte \"orgânica\" de alunos\n",
    "\n",
    "Obs: orgânico é tudo aquilo que não veio de anúncios.\n",
    "\n",
    "No nosso sistema, conseguimos exportar um txt com as informações dos alunos, conforme o arquivo Alunos.txt<br>\n",
    "(Os dados foram gerados aleatoriamente para simular uma situação real, já que não podemos fornecer os dados reais dos alunos por questões de segurança)\n",
    "\n",
    "- No final, para treinar, vamos escrever todas essas respostas em um novo arquivo txt"
   ]
  },
  {
   "cell_type": "code",
   "execution_count": 2,
   "metadata": {
    "id": "VJykeci7nyYi",
    "scrolled": true
   },
   "outputs": [
    {
     "name": "stdout",
     "output_type": "stream",
     "text": [
      "Quantidade Anuncio: 274\n",
      "Quantidade orgânico: 226\n",
      "Quantidade YouTube: 155\n",
      "Quantidade Instagram/FB: 24\n",
      "Quantidade Site: 73\n",
      "Fim do código\n"
     ]
    }
   ],
   "source": [
    "# abrir arquivo\n",
    "arquivo = open('Alunos.txt', 'r')\n",
    "# transformou-o em lista\n",
    "linhas = arquivo.readlines()\n",
    "# deletando informações dos ítens 0 a 3\n",
    "del linhas[:4]\n",
    "#criar indicadores\n",
    "qtd_anuncio = 0\n",
    "qtd_org =0\n",
    "qtd_yt_org = 0\n",
    "qtd_igfb_org = 0\n",
    "qtd_site_org = 0\n",
    "# separar as informações percorrendo a lista\n",
    "for linha in linhas: # percorre o arquivo na busca dos indicadores, incrementando-os\n",
    "    #antes da virgula recebe email; apos recebe origem\n",
    "    email, origem = linha.split(',')# split(',') separa as informações pela vírgula\n",
    "    if '_org' in origem:# se houver '_org' em origem\n",
    "        qtd_org+=1\n",
    "        if 'hashtag_site_org' in origem:\n",
    "            qtd_site_org+=1\n",
    "        if 'hashtag_yt_org' in origem:\n",
    "            qtd_yt_org+=1\n",
    "        if 'hashtag_ig_org' in origem or 'hashtag_igfb_org' in origem:\n",
    "            qtd_igfb_org+=1\n",
    "    else:\n",
    "        qtd_anuncio+=1\n",
    "    \n",
    "    \n",
    "    \n",
    "# fechar arquivo    \n",
    "arquivo.close()\n",
    "# print resultados\n",
    "print(f'Quantidade Anuncio: {qtd_anuncio}')\n",
    "print(f'Quantidade orgânico: {qtd_org}')\n",
    "print(f'Quantidade YouTube: {qtd_yt_org}')\n",
    "print(f'Quantidade Instagram/FB: {qtd_igfb_org}')\n",
    "print(f'Quantidade Site: {qtd_site_org}')\n",
    "# registra os indicadores num novo arquivo .txt\n",
    "with open('Indicadores.txt','w') as arquivo_indicadores: #criando arquivo novo indicadores.txt, modo 'w' como arquivo_indicadores\n",
    "     arquivo_indicadores.write(f'Quantidade Anuncio: {qtd_anuncio}\\nQuantidade orgânico: {qtd_org}\\nQuantidade YouTube: {qtd_yt_org}\\nQuantidade Instagram/FB: {qtd_igfb_org}\\nQuantidade Site: {qtd_site_org}')\n",
    "print('Fim do código')"
   ]
  },
  {
   "cell_type": "code",
   "execution_count": null,
   "metadata": {},
   "outputs": [],
   "source": [
    "\n",
    "\n"
   ]
  }
 ],
 "metadata": {
  "colab": {
   "provenance": []
  },
  "kernelspec": {
   "display_name": "Python 3 (ipykernel)",
   "language": "python",
   "name": "python3"
  },
  "language_info": {
   "codemirror_mode": {
    "name": "ipython",
    "version": 3
   },
   "file_extension": ".py",
   "mimetype": "text/x-python",
   "name": "python",
   "nbconvert_exporter": "python",
   "pygments_lexer": "ipython3",
   "version": "3.10.6"
  }
 },
 "nbformat": 4,
 "nbformat_minor": 1
}
